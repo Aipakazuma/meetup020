{
 "cells": [
  {
   "cell_type": "markdown",
   "metadata": {},
   "source": [
    "# RNNで次に来る文字を予測\n",
    "\n",
    "- [Understanding Stateful LSTM Recurrent Neural Networks in Python with Keras](http://machinelearningmastery.com/understanding-stateful-lstm-recurrent-neural-networks-python-keras/)\n",
    "- [The Unreasonable Effectiveness of Recurrent Neural Networks\n",
    "](http://karpathy.github.io/2015/05/21/rnn-effectiveness/)\n",
    "- [min-char-rnn.py](https://gist.github.com/karpathy/d4dee566867f8291f086)\n",
    "- [Understanding LSTM Netwroks by Chris Olah](http://colah.github.io/posts/2015-08-Understanding-LSTMs/)"
   ]
  },
  {
   "cell_type": "code",
   "execution_count": 1,
   "metadata": {
    "collapsed": false
   },
   "outputs": [
    {
     "name": "stderr",
     "output_type": "stream",
     "text": [
      "Using TensorFlow backend.\n"
     ]
    }
   ],
   "source": [
    "%matplotlib inline\n",
    "import matplotlib.pyplot as plt\n",
    "\n",
    "import numpy as np\n",
    "import codecs\n",
    "\n",
    "from keras.models import Model\n",
    "from keras.layers import Input, Dense, SimpleRNN, LSTM, GRU, Embedding, TimeDistributed\n",
    "from keras.utils import np_utils\n",
    "#from keras.preprocessing.sequence import pad_sequences\n",
    "\n",
    "np.random.seed(42)"
   ]
  },
  {
   "cell_type": "code",
   "execution_count": 2,
   "metadata": {
    "collapsed": false
   },
   "outputs": [],
   "source": [
    "# データの読み込み\n",
    "\n",
    "data = u\"あいうえおかきくけこあ\"\n",
    "#data = \"ABCDEFGHIJKLMNOPQRSTUVWXYZ\"\n",
    "#data = \"01234567890\"\n",
    "#data = \"98877665544332211009\"\n",
    "#data = \"01122334455667788990\"\n",
    "#data = \"5432156789\"\n",
    "#data = \"56789543215\"\n",
    "#data = codecs.open('../input/obama.txt', encoding='utf-8').read()"
   ]
  },
  {
   "cell_type": "code",
   "execution_count": 3,
   "metadata": {
    "collapsed": true
   },
   "outputs": [],
   "source": [
    "# 文字集合の作成\n",
    "chars = sorted(list(set(data)))"
   ]
  },
  {
   "cell_type": "code",
   "execution_count": 4,
   "metadata": {
    "collapsed": false
   },
   "outputs": [
    {
     "name": "stdout",
     "output_type": "stream",
     "text": [
      "data has 11 characters, 10 unique.\n"
     ]
    }
   ],
   "source": [
    "# データ長と文字集合のサイズ\n",
    "data_size = len(data)\n",
    "vocab_size = len(chars)\n",
    "\n",
    "print 'data has %d characters, %d unique.' % (data_size, vocab_size)"
   ]
  },
  {
   "cell_type": "code",
   "execution_count": 5,
   "metadata": {
    "collapsed": true
   },
   "outputs": [],
   "source": [
    "# インデックスから文字、文字からインデックスに変換するための辞書をそれぞれ用意\n",
    "char_to_ix = { ch:i for i,ch in enumerate(chars) }\n",
    "ix_to_char = { i:ch for i,ch in enumerate(chars) }"
   ]
  },
  {
   "cell_type": "code",
   "execution_count": 6,
   "metadata": {
    "collapsed": true
   },
   "outputs": [],
   "source": [
    "chars_ix = [char_to_ix[ch] for ch in chars]"
   ]
  },
  {
   "cell_type": "code",
   "execution_count": 7,
   "metadata": {
    "collapsed": false
   },
   "outputs": [
    {
     "data": {
      "text/plain": [
       "[0, 1, 2, 3, 4, 5, 6, 7, 8, 9]"
      ]
     },
     "execution_count": 7,
     "metadata": {},
     "output_type": "execute_result"
    }
   ],
   "source": [
    "chars_ix"
   ]
  },
  {
   "cell_type": "code",
   "execution_count": 8,
   "metadata": {
    "collapsed": true
   },
   "outputs": [],
   "source": [
    "#char_to_ix['0']"
   ]
  },
  {
   "cell_type": "code",
   "execution_count": 9,
   "metadata": {
    "collapsed": false
   },
   "outputs": [],
   "source": [
    "#ix_to_char[0]"
   ]
  },
  {
   "cell_type": "code",
   "execution_count": 10,
   "metadata": {
    "collapsed": true
   },
   "outputs": [],
   "source": [
    "# ハイパーパラメータ\n",
    "seq_length = 1\n",
    "learning_rate = 1e-1\n",
    "batch_size = 1"
   ]
  },
  {
   "cell_type": "code",
   "execution_count": 11,
   "metadata": {
    "collapsed": false,
    "scrolled": false
   },
   "outputs": [
    {
     "data": {
      "text/plain": [
       "[0, 1, 2, 3, 4, 5, 6, 7, 8, 9, 0]"
      ]
     },
     "execution_count": 11,
     "metadata": {},
     "output_type": "execute_result"
    }
   ],
   "source": [
    "data_ix = [char_to_ix[ch] for ch in data]\n",
    "data_ix"
   ]
  },
  {
   "cell_type": "code",
   "execution_count": 12,
   "metadata": {
    "collapsed": false
   },
   "outputs": [
    {
     "data": {
      "text/plain": [
       "(11, 10)"
      ]
     },
     "execution_count": 12,
     "metadata": {},
     "output_type": "execute_result"
    }
   ],
   "source": [
    "X = np_utils.to_categorical(data_ix, nb_classes=vocab_size)\n",
    "X.shape"
   ]
  },
  {
   "cell_type": "code",
   "execution_count": 13,
   "metadata": {
    "collapsed": false
   },
   "outputs": [
    {
     "data": {
      "text/plain": [
       "(10, 1, 10)"
      ]
     },
     "execution_count": 13,
     "metadata": {},
     "output_type": "execute_result"
    }
   ],
   "source": [
    "X_train = X[:-1][:, np.newaxis, :]\n",
    "X_train.shape"
   ]
  },
  {
   "cell_type": "code",
   "execution_count": 14,
   "metadata": {
    "collapsed": false
   },
   "outputs": [
    {
     "data": {
      "text/plain": [
       "(10, 10)"
      ]
     },
     "execution_count": 14,
     "metadata": {},
     "output_type": "execute_result"
    }
   ],
   "source": [
    "Y_train = X[1:]\n",
    "Y_train.shape"
   ]
  },
  {
   "cell_type": "markdown",
   "metadata": {},
   "source": [
    "## モデル構築"
   ]
  },
  {
   "cell_type": "code",
   "execution_count": 15,
   "metadata": {
    "collapsed": false
   },
   "outputs": [],
   "source": [
    "inputs = Input(batch_shape=(batch_size, seq_length, vocab_size))\n",
    "x = SimpleRNN(50, stateful=True)(inputs)\n",
    "#x = SimpleRNN(50, stateful=True, return_sequences=True)(inputs)\n",
    "#x = SimpleRNN(50, stateful=True)(x)\n",
    "outputs = Dense(vocab_size, activation='softmax')(x)\n",
    "\n",
    "model = Model(input=inputs, output=outputs)"
   ]
  },
  {
   "cell_type": "code",
   "execution_count": 16,
   "metadata": {
    "collapsed": false
   },
   "outputs": [],
   "source": [
    "model.compile(optimizer='rmsprop',\n",
    "             loss='categorical_crossentropy',\n",
    "             metrics=['accuracy'])"
   ]
  },
  {
   "cell_type": "code",
   "execution_count": 17,
   "metadata": {
    "collapsed": true
   },
   "outputs": [],
   "source": [
    "# 学習履歴をリセット\n",
    "\n",
    "histories = {}\n",
    "acc = []\n",
    "loss = []"
   ]
  },
  {
   "cell_type": "markdown",
   "metadata": {},
   "source": [
    "## 学習"
   ]
  },
  {
   "cell_type": "code",
   "execution_count": 18,
   "metadata": {
    "collapsed": false,
    "scrolled": false
   },
   "outputs": [
    {
     "name": "stdout",
     "output_type": "stream",
     "text": [
      "run 0\tacc: 0.10\tloss: 2.34299\n",
      "run 1\tacc: 0.10\tloss: 2.30413\n",
      "run 2\tacc: 0.00\tloss: 2.35460\n",
      "run 3\tacc: 0.20\tloss: 2.23879\n",
      "run 4\tacc: 0.00\tloss: 2.38218\n",
      "run 5\tacc: 0.30\tloss: 2.02685\n",
      "run 6\tacc: 0.10\tloss: 2.24687\n",
      "run 7\tacc: 0.10\tloss: 2.19888\n",
      "run 8\tacc: 0.20\tloss: 2.25387\n",
      "run 9\tacc: 0.20\tloss: 2.06521\n",
      "run 10\tacc: 0.20\tloss: 2.17478\n",
      "run 11\tacc: 0.10\tloss: 2.12728\n",
      "run 12\tacc: 0.20\tloss: 2.13438\n",
      "run 13\tacc: 0.30\tloss: 1.99514\n",
      "run 14\tacc: 0.40\tloss: 2.09871\n",
      "run 15\tacc: 0.50\tloss: 1.83090\n",
      "run 16\tacc: 0.40\tloss: 1.94858\n",
      "run 17\tacc: 0.40\tloss: 1.80777\n",
      "run 18\tacc: 0.50\tloss: 1.75445\n",
      "run 19\tacc: 0.60\tloss: 1.91600\n",
      "run 20\tacc: 0.40\tloss: 2.01346\n",
      "run 21\tacc: 0.80\tloss: 1.66316\n",
      "run 22\tacc: 0.40\tloss: 1.88468\n",
      "run 23\tacc: 0.40\tloss: 1.89924\n",
      "run 24\tacc: 0.70\tloss: 1.60191\n",
      "run 25\tacc: 0.70\tloss: 1.65386\n",
      "run 26\tacc: 0.80\tloss: 1.52377\n",
      "run 27\tacc: 0.60\tloss: 1.65190\n",
      "run 28\tacc: 0.70\tloss: 1.63949\n",
      "run 29\tacc: 0.40\tloss: 1.86373\n",
      "run 30\tacc: 0.70\tloss: 1.52930\n",
      "run 31\tacc: 0.90\tloss: 1.33635\n",
      "run 32\tacc: 0.80\tloss: 1.65254\n",
      "run 33\tacc: 0.70\tloss: 1.56442\n",
      "run 34\tacc: 0.90\tloss: 1.39196\n",
      "run 35\tacc: 0.80\tloss: 1.51081\n",
      "run 36\tacc: 1.00\tloss: 1.32744\n",
      "run 37\tacc: 0.80\tloss: 1.49563\n",
      "run 38\tacc: 1.00\tloss: 1.20746\n",
      "run 39\tacc: 0.90\tloss: 1.28945\n",
      "run 40\tacc: 0.90\tloss: 1.39274\n",
      "run 41\tacc: 0.80\tloss: 1.33836\n",
      "run 42\tacc: 0.80\tloss: 1.31267\n",
      "run 43\tacc: 0.90\tloss: 1.31820\n",
      "run 44\tacc: 0.90\tloss: 1.17062\n",
      "run 45\tacc: 0.90\tloss: 1.35695\n",
      "run 46\tacc: 0.80\tloss: 1.32943\n",
      "run 47\tacc: 0.90\tloss: 1.19408\n",
      "run 48\tacc: 0.90\tloss: 1.24250\n",
      "run 49\tacc: 0.80\tloss: 1.24632\n",
      "run 50\tacc: 0.90\tloss: 1.17904\n",
      "run 51\tacc: 1.00\tloss: 1.13190\n",
      "run 52\tacc: 1.00\tloss: 1.15050\n",
      "run 53\tacc: 1.00\tloss: 0.88331\n",
      "run 54\tacc: 1.00\tloss: 1.16639\n",
      "run 55\tacc: 0.80\tloss: 1.33474\n",
      "run 56\tacc: 1.00\tloss: 1.04383\n",
      "run 57\tacc: 1.00\tloss: 0.99365\n",
      "run 58\tacc: 1.00\tloss: 0.96869\n",
      "run 59\tacc: 1.00\tloss: 0.89316\n",
      "run 60\tacc: 1.00\tloss: 1.12438\n",
      "run 61\tacc: 1.00\tloss: 1.00502\n",
      "run 62\tacc: 1.00\tloss: 0.74889\n",
      "run 63\tacc: 0.80\tloss: 1.10107\n",
      "run 64\tacc: 0.90\tloss: 0.90965\n",
      "run 65\tacc: 1.00\tloss: 0.88474\n",
      "run 66\tacc: 0.90\tloss: 0.99160\n",
      "run 67\tacc: 1.00\tloss: 0.85840\n",
      "run 68\tacc: 1.00\tloss: 0.89670\n",
      "run 69\tacc: 1.00\tloss: 0.85385\n",
      "run 70\tacc: 1.00\tloss: 0.93046\n",
      "run 71\tacc: 1.00\tloss: 0.79683\n",
      "run 72\tacc: 0.90\tloss: 0.72114\n",
      "run 73\tacc: 1.00\tloss: 0.64940\n",
      "run 74\tacc: 0.90\tloss: 0.78855\n",
      "run 75\tacc: 1.00\tloss: 0.88103\n",
      "run 76\tacc: 1.00\tloss: 0.76679\n",
      "run 77\tacc: 1.00\tloss: 0.74389\n",
      "run 78\tacc: 1.00\tloss: 0.67600\n",
      "run 79\tacc: 1.00\tloss: 0.62072\n",
      "run 80\tacc: 1.00\tloss: 0.64978\n",
      "run 81\tacc: 1.00\tloss: 0.77985\n",
      "run 82\tacc: 1.00\tloss: 0.78899\n",
      "run 83\tacc: 1.00\tloss: 0.61047\n",
      "run 84\tacc: 1.00\tloss: 0.57141\n",
      "run 85\tacc: 1.00\tloss: 0.72204\n",
      "run 86\tacc: 1.00\tloss: 0.66421\n",
      "run 87\tacc: 1.00\tloss: 0.57072\n",
      "run 88\tacc: 1.00\tloss: 0.56468\n",
      "run 89\tacc: 1.00\tloss: 0.59501\n",
      "run 90\tacc: 1.00\tloss: 0.52693\n",
      "run 91\tacc: 1.00\tloss: 0.45137\n",
      "run 92\tacc: 1.00\tloss: 0.47812\n",
      "run 93\tacc: 1.00\tloss: 0.42396\n",
      "run 94\tacc: 1.00\tloss: 0.52160\n",
      "run 95\tacc: 1.00\tloss: 0.44067\n",
      "run 96\tacc: 1.00\tloss: 0.49810\n",
      "run 97\tacc: 1.00\tloss: 0.42129\n",
      "run 98\tacc: 1.00\tloss: 0.43371\n",
      "run 99\tacc: 1.00\tloss: 0.52882\n",
      "run 100\tacc: 1.00\tloss: 0.40986\n",
      "run 101\tacc: 1.00\tloss: 0.36927\n",
      "run 102\tacc: 1.00\tloss: 0.35464\n",
      "run 103\tacc: 1.00\tloss: 0.40754\n",
      "run 104\tacc: 1.00\tloss: 0.30547\n",
      "run 105\tacc: 1.00\tloss: 0.26209\n",
      "run 106\tacc: 1.00\tloss: 0.36697\n",
      "run 107\tacc: 1.00\tloss: 0.30019\n",
      "run 108\tacc: 1.00\tloss: 0.24172\n",
      "run 109\tacc: 1.00\tloss: 0.27504\n",
      "run 110\tacc: 1.00\tloss: 0.27350\n",
      "run 111\tacc: 1.00\tloss: 0.27975\n",
      "run 112\tacc: 1.00\tloss: 0.30129\n",
      "run 113\tacc: 1.00\tloss: 0.25359\n",
      "run 114\tacc: 1.00\tloss: 0.21831\n",
      "run 115\tacc: 1.00\tloss: 0.21927\n",
      "run 116\tacc: 1.00\tloss: 0.31328\n",
      "run 117\tacc: 1.00\tloss: 0.22449\n",
      "run 118\tacc: 1.00\tloss: 0.22442\n",
      "run 119\tacc: 1.00\tloss: 0.23500\n",
      "run 120\tacc: 1.00\tloss: 0.14575\n",
      "run 121\tacc: 1.00\tloss: 0.22357\n",
      "run 122\tacc: 1.00\tloss: 0.20303\n",
      "run 123\tacc: 1.00\tloss: 0.17274\n",
      "run 124\tacc: 1.00\tloss: 0.14086\n",
      "run 125\tacc: 1.00\tloss: 0.16568\n",
      "run 126\tacc: 1.00\tloss: 0.19759\n",
      "run 127\tacc: 1.00\tloss: 0.14480\n",
      "run 128\tacc: 1.00\tloss: 0.13123\n",
      "run 129\tacc: 1.00\tloss: 0.16250\n",
      "run 130\tacc: 1.00\tloss: 0.15420\n",
      "run 131\tacc: 1.00\tloss: 0.09163\n",
      "run 132\tacc: 1.00\tloss: 0.09723\n",
      "run 133\tacc: 1.00\tloss: 0.10791\n",
      "run 134\tacc: 1.00\tloss: 0.15044\n",
      "run 135\tacc: 1.00\tloss: 0.10176\n",
      "run 136\tacc: 1.00\tloss: 0.08963\n",
      "run 137\tacc: 1.00\tloss: 0.10538\n",
      "run 138\tacc: 1.00\tloss: 0.09898\n",
      "run 139\tacc: 1.00\tloss: 0.07724\n",
      "run 140\tacc: 1.00\tloss: 0.11885\n",
      "run 141\tacc: 1.00\tloss: 0.06988\n",
      "run 142\tacc: 1.00\tloss: 0.07987\n",
      "run 143\tacc: 1.00\tloss: 0.05627\n",
      "run 144\tacc: 1.00\tloss: 0.06412\n",
      "run 145\tacc: 1.00\tloss: 0.07942\n",
      "run 146\tacc: 1.00\tloss: 0.06978\n",
      "run 147\tacc: 1.00\tloss: 0.06224\n",
      "run 148\tacc: 1.00\tloss: 0.04392\n",
      "run 149\tacc: 1.00\tloss: 0.05614\n",
      "run 150\tacc: 1.00\tloss: 0.07444\n",
      "run 151\tacc: 1.00\tloss: 0.05458\n",
      "run 152\tacc: 1.00\tloss: 0.05274\n",
      "run 153\tacc: 1.00\tloss: 0.05044\n",
      "run 154\tacc: 1.00\tloss: 0.03546\n",
      "run 155\tacc: 1.00\tloss: 0.04050\n",
      "run 156\tacc: 1.00\tloss: 0.04951\n",
      "run 157\tacc: 1.00\tloss: 0.03899\n",
      "run 158\tacc: 1.00\tloss: 0.04029\n",
      "run 159\tacc: 1.00\tloss: 0.03301\n",
      "run 160\tacc: 1.00\tloss: 0.03080\n",
      "run 161\tacc: 1.00\tloss: 0.02658\n",
      "run 162\tacc: 1.00\tloss: 0.02298\n",
      "run 163\tacc: 1.00\tloss: 0.03368\n",
      "run 164\tacc: 1.00\tloss: 0.02753\n",
      "run 165\tacc: 1.00\tloss: 0.02207\n",
      "run 166\tacc: 1.00\tloss: 0.01642\n",
      "run 167\tacc: 1.00\tloss: 0.02298\n",
      "run 168\tacc: 1.00\tloss: 0.02648\n",
      "run 169\tacc: 1.00\tloss: 0.01661\n",
      "run 170\tacc: 1.00\tloss: 0.01563\n",
      "run 171\tacc: 1.00\tloss: 0.01722\n",
      "run 172\tacc: 1.00\tloss: 0.02493\n",
      "run 173\tacc: 1.00\tloss: 0.01483\n",
      "run 174\tacc: 1.00\tloss: 0.01634\n",
      "run 175\tacc: 1.00\tloss: 0.01003\n",
      "run 176\tacc: 1.00\tloss: 0.01205\n",
      "run 177\tacc: 1.00\tloss: 0.01256\n",
      "run 178\tacc: 1.00\tloss: 0.01132\n",
      "run 179\tacc: 1.00\tloss: 0.01006\n",
      "run 180\tacc: 1.00\tloss: 0.00737\n",
      "run 181\tacc: 1.00\tloss: 0.00854\n",
      "run 182\tacc: 1.00\tloss: 0.00989\n",
      "run 183\tacc: 1.00\tloss: 0.00609\n",
      "run 184\tacc: 1.00\tloss: 0.01055\n",
      "run 185\tacc: 1.00\tloss: 0.01135\n",
      "run 186\tacc: 1.00\tloss: 0.00761\n",
      "run 187\tacc: 1.00\tloss: 0.00536\n",
      "run 188\tacc: 1.00\tloss: 0.00595\n",
      "run 189\tacc: 1.00\tloss: 0.00559\n",
      "run 190\tacc: 1.00\tloss: 0.00419\n",
      "run 191\tacc: 1.00\tloss: 0.00566\n",
      "run 192\tacc: 1.00\tloss: 0.00425\n",
      "run 193\tacc: 1.00\tloss: 0.00488\n",
      "run 194\tacc: 1.00\tloss: 0.00386\n",
      "run 195\tacc: 1.00\tloss: 0.00342\n",
      "run 196\tacc: 1.00\tloss: 0.00350\n",
      "run 197\tacc: 1.00\tloss: 0.00328\n",
      "run 198\tacc: 1.00\tloss: 0.00414\n",
      "run 199\tacc: 1.00\tloss: 0.00218\n"
     ]
    }
   ],
   "source": [
    "n_run = 200\n",
    "#n_run = 2\n",
    "\n",
    "for i in range(n_run):\n",
    "    history = model.fit(X_train, Y_train, nb_epoch=1, batch_size=batch_size, verbose=False)\n",
    "    curr_acc = history.history['acc'][0]\n",
    "    curr_loss = history.history['loss'][0]\n",
    "    acc.append(curr_acc)\n",
    "    loss.append(curr_loss)\n",
    "    model.reset_states()\n",
    "    \n",
    "    print('run {0}\\tacc: {1:.2f}\\tloss: {2:.5f}'.format(i, curr_acc, curr_loss))"
   ]
  },
  {
   "cell_type": "markdown",
   "metadata": {},
   "source": [
    "## 結果\n",
    "\n",
    "SimpleRNN: acc: 0.0938 after 5 runs, 36 sec/run, SimpleRNN(100, stateful=True)(inputs)"
   ]
  },
  {
   "cell_type": "code",
   "execution_count": 19,
   "metadata": {
    "collapsed": false
   },
   "outputs": [
    {
     "data": {
      "text/plain": [
       "[<matplotlib.text.Text at 0x110cfccd0>]"
      ]
     },
     "execution_count": 19,
     "metadata": {},
     "output_type": "execute_result"
    },
    {
     "data": {
      "image/png": "[encoded data removed]",
      "text/plain": [
       "<matplotlib.figure.Figure at 0x10fe5a050>"
      ]
     },
     "metadata": {},
     "output_type": "display_data"
    }
   ],
   "source": [
    "fig, ax = plt.subplots(2, 1, figsize=(10, 6))\n",
    "ax[0].plot(acc, label='acc', color='b')\n",
    "ax[0].set(ylabel='Accuracy', ylim=(0, 1))\n",
    "ax[1].plot(loss, label='loss', color='r')\n",
    "ax[1].set(ylabel='Loss')\n",
    "#ax.legend()"
   ]
  },
  {
   "cell_type": "code",
   "execution_count": 20,
   "metadata": {
    "collapsed": true
   },
   "outputs": [],
   "source": [
    "def char_to_vec(letter):\n",
    "    seed = [char_to_ix[letter]]\n",
    "    vec = np_utils.to_categorical(seed, nb_classes=vocab_size)\n",
    "    return vec[:, np.newaxis, :]"
   ]
  },
  {
   "cell_type": "code",
   "execution_count": 21,
   "metadata": {
    "collapsed": false,
    "scrolled": true
   },
   "outputs": [],
   "source": [
    "#plt.bar(np.arange(len(pred_proba[0])), pred_proba[0]);"
   ]
  },
  {
   "cell_type": "code",
   "execution_count": 22,
   "metadata": {
    "collapsed": false
   },
   "outputs": [
    {
     "name": "stdout",
     "output_type": "stream",
     "text": [
      "あ い う え お か き く け こ あ い う え お か き く け こ あ い う え お か き く け こ あ い う え お か き く け こ あ い う え お か き く け こ\n"
     ]
    }
   ],
   "source": [
    "# この文字をシードとして用いて後の系列を生成\n",
    "#curr_char = \"A\"\n",
    "curr_char = u\"あ\"\n",
    "\n",
    "all_pred_proba = []\n",
    "\n",
    "for i in range(50):\n",
    "    curr_vec = char_to_vec(curr_char)\n",
    "    pred_proba = model.predict(curr_vec)\n",
    "    #pred_ix = np.argmax(pred_proba)\n",
    "    pred_ix = np.random.choice(chars_ix, p=pred_proba[0])\n",
    "    \n",
    "    next_char = ix_to_char[pred_ix]\n",
    "    next_x = char_to_vec(next_char)\n",
    "    #print curr_char, '->', next_char\n",
    "    print curr_char,\n",
    "    \n",
    "    curr_char = next_char\n",
    "    \n",
    "    all_pred_proba.append(pred_proba)\n",
    "    \n",
    "model.reset_states()"
   ]
  },
  {
   "cell_type": "code",
   "execution_count": 23,
   "metadata": {
    "collapsed": false,
    "scrolled": false
   },
   "outputs": [
    {
     "data": {
      "image/png": "[encoded data removed]",
      "text/plain": [
       "<matplotlib.figure.Figure at 0x10fe7e450>"
      ]
     },
     "metadata": {},
     "output_type": "display_data"
    }
   ],
   "source": [
    "fig, ax = plt.subplots(figsize=(10, 8))\n",
    "ax.imshow(np.array(all_pred_proba)[:, 0, :], interpolation='nearest', cmap='gray')\n",
    "ax.set_xticks(np.arange(len(chars)))\n",
    "ax.set_xticklabels(list(chars));"
   ]
  },
  {
   "cell_type": "code",
   "execution_count": 24,
   "metadata": {
    "collapsed": false
   },
   "outputs": [],
   "source": [
    "weights = model.get_weights()"
   ]
  },
  {
   "cell_type": "code",
   "execution_count": 25,
   "metadata": {
    "collapsed": false
   },
   "outputs": [
    {
     "data": {
      "text/plain": [
       "5"
      ]
     },
     "execution_count": 25,
     "metadata": {},
     "output_type": "execute_result"
    }
   ],
   "source": [
    "len(weights)"
   ]
  },
  {
   "cell_type": "code",
   "execution_count": 26,
   "metadata": {
    "collapsed": false
   },
   "outputs": [
    {
     "name": "stdout",
     "output_type": "stream",
     "text": [
      "(10, 50)\n",
      "(50, 50)\n",
      "(50,)\n",
      "(50, 10)\n",
      "(10,)\n"
     ]
    }
   ],
   "source": [
    "for w in weights:\n",
    "    print w.shape"
   ]
  },
  {
   "cell_type": "code",
   "execution_count": 27,
   "metadata": {
    "collapsed": false
   },
   "outputs": [
    {
     "data": {
      "image/png": "[encoded data removed]",
      "text/plain": [
       "<matplotlib.figure.Figure at 0x110ea82d0>"
      ]
     },
     "metadata": {},
     "output_type": "display_data"
    },
    {
     "data": {
      "image/png": "[encoded data removed]",
      "text/plain": [
       "<matplotlib.figure.Figure at 0x110f90b10>"
      ]
     },
     "metadata": {},
     "output_type": "display_data"
    },
    {
     "data": {
      "image/png": "[encoded data removed]",
      "text/plain": [
       "<matplotlib.figure.Figure at 0x110f90ad0>"
      ]
     },
     "metadata": {},
     "output_type": "display_data"
    },
    {
     "data": {
      "image/png": "[encoded data removed]",
      "text/plain": [
       "<matplotlib.figure.Figure at 0x110f90a90>"
      ]
     },
     "metadata": {},
     "output_type": "display_data"
    },
    {
     "data": {
      "image/png": "[encoded data removed]",
      "text/plain": [
       "<matplotlib.figure.Figure at 0x111022650>"
      ]
     },
     "metadata": {},
     "output_type": "display_data"
    }
   ],
   "source": [
    "nb_figure = len(weights)\n",
    "\n",
    "#fig, ax = plt.subplots(nb_figure, 1)\n",
    "\n",
    "for ii in range(nb_figure):\n",
    "    #weights[ii].shape\n",
    "    plt.figure()\n",
    "    plt.imshow(np.atleast_2d(weights[ii]), interpolation='nearest', clim=(-0.5, 0.5));\n",
    "    plt.axis('off')\n",
    "    plt.title(weights[ii].shape)"
   ]
  }
 ],
 "metadata": {
  "anaconda-cloud": {},
  "kernelspec": {
   "display_name": "Python [conda root]",
   "language": "python",
   "name": "conda-root-py"
  },
  "language_info": {
   "codemirror_mode": {
    "name": "ipython",
    "version": 2
   },
   "file_extension": ".py",
   "mimetype": "text/x-python",
   "name": "python",
   "nbconvert_exporter": "python",
   "pygments_lexer": "ipython2",
   "version": "2.7.11"
  }
 },
 "nbformat": 4,
 "nbformat_minor": 0
}
